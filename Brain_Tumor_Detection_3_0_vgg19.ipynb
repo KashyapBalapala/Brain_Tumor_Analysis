{
  "nbformat": 4,
  "nbformat_minor": 0,
  "metadata": {
    "colab": {
      "provenance": [],
      "include_colab_link": true
    },
    "kernelspec": {
      "name": "python3",
      "display_name": "Python 3"
    },
    "language_info": {
      "name": "python"
    },
    "accelerator": "GPU",
    "gpuClass": "standard",
    "widgets": {
      "application/vnd.jupyter.widget-state+json": {
        "ea3340953e4d49bbbf1851ffbf6ee682": {
          "model_module": "@jupyter-widgets/controls",
          "model_name": "HBoxModel",
          "model_module_version": "1.5.0",
          "state": {
            "_dom_classes": [],
            "_model_module": "@jupyter-widgets/controls",
            "_model_module_version": "1.5.0",
            "_model_name": "HBoxModel",
            "_view_count": null,
            "_view_module": "@jupyter-widgets/controls",
            "_view_module_version": "1.5.0",
            "_view_name": "HBoxView",
            "box_style": "",
            "children": [
              "IPY_MODEL_2aa7a9baa16548cc83056e7fb784f973",
              "IPY_MODEL_6c79618c15ac48e281a8ea1a2e2b8852",
              "IPY_MODEL_0a1304292c9141399f3b57e6d482f601"
            ],
            "layout": "IPY_MODEL_aa5c8d8d10af4abd8e2257f0fcf5921f"
          }
        },
        "2aa7a9baa16548cc83056e7fb784f973": {
          "model_module": "@jupyter-widgets/controls",
          "model_name": "HTMLModel",
          "model_module_version": "1.5.0",
          "state": {
            "_dom_classes": [],
            "_model_module": "@jupyter-widgets/controls",
            "_model_module_version": "1.5.0",
            "_model_name": "HTMLModel",
            "_view_count": null,
            "_view_module": "@jupyter-widgets/controls",
            "_view_module_version": "1.5.0",
            "_view_name": "HTMLView",
            "description": "",
            "description_tooltip": null,
            "layout": "IPY_MODEL_a9ec71410fa6472ebef34f8c56cee8fd",
            "placeholder": "​",
            "style": "IPY_MODEL_60cddab23ba347fb8b00e0778238458b",
            "value": "100%"
          }
        },
        "6c79618c15ac48e281a8ea1a2e2b8852": {
          "model_module": "@jupyter-widgets/controls",
          "model_name": "FloatProgressModel",
          "model_module_version": "1.5.0",
          "state": {
            "_dom_classes": [],
            "_model_module": "@jupyter-widgets/controls",
            "_model_module_version": "1.5.0",
            "_model_name": "FloatProgressModel",
            "_view_count": null,
            "_view_module": "@jupyter-widgets/controls",
            "_view_module_version": "1.5.0",
            "_view_name": "ProgressView",
            "bar_style": "success",
            "description": "",
            "description_tooltip": null,
            "layout": "IPY_MODEL_8a5cb1ae76f94d4dab333794c901c4d4",
            "max": 574769405,
            "min": 0,
            "orientation": "horizontal",
            "style": "IPY_MODEL_c292325976b4433ebad35b28b51fde39",
            "value": 574769405
          }
        },
        "0a1304292c9141399f3b57e6d482f601": {
          "model_module": "@jupyter-widgets/controls",
          "model_name": "HTMLModel",
          "model_module_version": "1.5.0",
          "state": {
            "_dom_classes": [],
            "_model_module": "@jupyter-widgets/controls",
            "_model_module_version": "1.5.0",
            "_model_name": "HTMLModel",
            "_view_count": null,
            "_view_module": "@jupyter-widgets/controls",
            "_view_module_version": "1.5.0",
            "_view_name": "HTMLView",
            "description": "",
            "description_tooltip": null,
            "layout": "IPY_MODEL_b27bfd8452c64f6bbe1164d29f92e5a8",
            "placeholder": "​",
            "style": "IPY_MODEL_3bb41a24652f4cbabfcac065aa2644d0",
            "value": " 548M/548M [00:06&lt;00:00, 87.6MB/s]"
          }
        },
        "aa5c8d8d10af4abd8e2257f0fcf5921f": {
          "model_module": "@jupyter-widgets/base",
          "model_name": "LayoutModel",
          "model_module_version": "1.2.0",
          "state": {
            "_model_module": "@jupyter-widgets/base",
            "_model_module_version": "1.2.0",
            "_model_name": "LayoutModel",
            "_view_count": null,
            "_view_module": "@jupyter-widgets/base",
            "_view_module_version": "1.2.0",
            "_view_name": "LayoutView",
            "align_content": null,
            "align_items": null,
            "align_self": null,
            "border": null,
            "bottom": null,
            "display": null,
            "flex": null,
            "flex_flow": null,
            "grid_area": null,
            "grid_auto_columns": null,
            "grid_auto_flow": null,
            "grid_auto_rows": null,
            "grid_column": null,
            "grid_gap": null,
            "grid_row": null,
            "grid_template_areas": null,
            "grid_template_columns": null,
            "grid_template_rows": null,
            "height": null,
            "justify_content": null,
            "justify_items": null,
            "left": null,
            "margin": null,
            "max_height": null,
            "max_width": null,
            "min_height": null,
            "min_width": null,
            "object_fit": null,
            "object_position": null,
            "order": null,
            "overflow": null,
            "overflow_x": null,
            "overflow_y": null,
            "padding": null,
            "right": null,
            "top": null,
            "visibility": null,
            "width": null
          }
        },
        "a9ec71410fa6472ebef34f8c56cee8fd": {
          "model_module": "@jupyter-widgets/base",
          "model_name": "LayoutModel",
          "model_module_version": "1.2.0",
          "state": {
            "_model_module": "@jupyter-widgets/base",
            "_model_module_version": "1.2.0",
            "_model_name": "LayoutModel",
            "_view_count": null,
            "_view_module": "@jupyter-widgets/base",
            "_view_module_version": "1.2.0",
            "_view_name": "LayoutView",
            "align_content": null,
            "align_items": null,
            "align_self": null,
            "border": null,
            "bottom": null,
            "display": null,
            "flex": null,
            "flex_flow": null,
            "grid_area": null,
            "grid_auto_columns": null,
            "grid_auto_flow": null,
            "grid_auto_rows": null,
            "grid_column": null,
            "grid_gap": null,
            "grid_row": null,
            "grid_template_areas": null,
            "grid_template_columns": null,
            "grid_template_rows": null,
            "height": null,
            "justify_content": null,
            "justify_items": null,
            "left": null,
            "margin": null,
            "max_height": null,
            "max_width": null,
            "min_height": null,
            "min_width": null,
            "object_fit": null,
            "object_position": null,
            "order": null,
            "overflow": null,
            "overflow_x": null,
            "overflow_y": null,
            "padding": null,
            "right": null,
            "top": null,
            "visibility": null,
            "width": null
          }
        },
        "60cddab23ba347fb8b00e0778238458b": {
          "model_module": "@jupyter-widgets/controls",
          "model_name": "DescriptionStyleModel",
          "model_module_version": "1.5.0",
          "state": {
            "_model_module": "@jupyter-widgets/controls",
            "_model_module_version": "1.5.0",
            "_model_name": "DescriptionStyleModel",
            "_view_count": null,
            "_view_module": "@jupyter-widgets/base",
            "_view_module_version": "1.2.0",
            "_view_name": "StyleView",
            "description_width": ""
          }
        },
        "8a5cb1ae76f94d4dab333794c901c4d4": {
          "model_module": "@jupyter-widgets/base",
          "model_name": "LayoutModel",
          "model_module_version": "1.2.0",
          "state": {
            "_model_module": "@jupyter-widgets/base",
            "_model_module_version": "1.2.0",
            "_model_name": "LayoutModel",
            "_view_count": null,
            "_view_module": "@jupyter-widgets/base",
            "_view_module_version": "1.2.0",
            "_view_name": "LayoutView",
            "align_content": null,
            "align_items": null,
            "align_self": null,
            "border": null,
            "bottom": null,
            "display": null,
            "flex": null,
            "flex_flow": null,
            "grid_area": null,
            "grid_auto_columns": null,
            "grid_auto_flow": null,
            "grid_auto_rows": null,
            "grid_column": null,
            "grid_gap": null,
            "grid_row": null,
            "grid_template_areas": null,
            "grid_template_columns": null,
            "grid_template_rows": null,
            "height": null,
            "justify_content": null,
            "justify_items": null,
            "left": null,
            "margin": null,
            "max_height": null,
            "max_width": null,
            "min_height": null,
            "min_width": null,
            "object_fit": null,
            "object_position": null,
            "order": null,
            "overflow": null,
            "overflow_x": null,
            "overflow_y": null,
            "padding": null,
            "right": null,
            "top": null,
            "visibility": null,
            "width": null
          }
        },
        "c292325976b4433ebad35b28b51fde39": {
          "model_module": "@jupyter-widgets/controls",
          "model_name": "ProgressStyleModel",
          "model_module_version": "1.5.0",
          "state": {
            "_model_module": "@jupyter-widgets/controls",
            "_model_module_version": "1.5.0",
            "_model_name": "ProgressStyleModel",
            "_view_count": null,
            "_view_module": "@jupyter-widgets/base",
            "_view_module_version": "1.2.0",
            "_view_name": "StyleView",
            "bar_color": null,
            "description_width": ""
          }
        },
        "b27bfd8452c64f6bbe1164d29f92e5a8": {
          "model_module": "@jupyter-widgets/base",
          "model_name": "LayoutModel",
          "model_module_version": "1.2.0",
          "state": {
            "_model_module": "@jupyter-widgets/base",
            "_model_module_version": "1.2.0",
            "_model_name": "LayoutModel",
            "_view_count": null,
            "_view_module": "@jupyter-widgets/base",
            "_view_module_version": "1.2.0",
            "_view_name": "LayoutView",
            "align_content": null,
            "align_items": null,
            "align_self": null,
            "border": null,
            "bottom": null,
            "display": null,
            "flex": null,
            "flex_flow": null,
            "grid_area": null,
            "grid_auto_columns": null,
            "grid_auto_flow": null,
            "grid_auto_rows": null,
            "grid_column": null,
            "grid_gap": null,
            "grid_row": null,
            "grid_template_areas": null,
            "grid_template_columns": null,
            "grid_template_rows": null,
            "height": null,
            "justify_content": null,
            "justify_items": null,
            "left": null,
            "margin": null,
            "max_height": null,
            "max_width": null,
            "min_height": null,
            "min_width": null,
            "object_fit": null,
            "object_position": null,
            "order": null,
            "overflow": null,
            "overflow_x": null,
            "overflow_y": null,
            "padding": null,
            "right": null,
            "top": null,
            "visibility": null,
            "width": null
          }
        },
        "3bb41a24652f4cbabfcac065aa2644d0": {
          "model_module": "@jupyter-widgets/controls",
          "model_name": "DescriptionStyleModel",
          "model_module_version": "1.5.0",
          "state": {
            "_model_module": "@jupyter-widgets/controls",
            "_model_module_version": "1.5.0",
            "_model_name": "DescriptionStyleModel",
            "_view_count": null,
            "_view_module": "@jupyter-widgets/base",
            "_view_module_version": "1.2.0",
            "_view_name": "StyleView",
            "description_width": ""
          }
        }
      }
    }
  },
  "cells": [
    {
      "cell_type": "markdown",
      "metadata": {
        "id": "view-in-github",
        "colab_type": "text"
      },
      "source": [
        "<a href=\"https://colab.research.google.com/github/Chandan-Kumar-Vanamala/k1/blob/main/Brain_Tumor_Detection_3_0_vgg19.ipynb\" target=\"_parent\"><img src=\"https://colab.research.google.com/assets/colab-badge.svg\" alt=\"Open In Colab\"/></a>"
      ]
    },
    {
      "cell_type": "code",
      "source": [
        "from google.colab import drive\n",
        "drive.mount('/content/gdrive')"
      ],
      "metadata": {
        "colab": {
          "base_uri": "https://localhost:8080/"
        },
        "id": "a7b4CwDKeHMM",
        "outputId": "85fd5218-cdae-471a-9596-78ade06f89ca"
      },
      "execution_count": null,
      "outputs": [
        {
          "output_type": "stream",
          "name": "stdout",
          "text": [
            "Mounted at /content/gdrive\n"
          ]
        }
      ]
    },
    {
      "cell_type": "code",
      "source": [
        "!pip install torchnet"
      ],
      "metadata": {
        "colab": {
          "base_uri": "https://localhost:8080/"
        },
        "id": "pUtsUkcAeIEa",
        "outputId": "dbaf4941-693b-4bb6-c261-2df1073ec5df"
      },
      "execution_count": null,
      "outputs": [
        {
          "output_type": "stream",
          "name": "stdout",
          "text": [
            "Looking in indexes: https://pypi.org/simple, https://us-python.pkg.dev/colab-wheels/public/simple/\n",
            "Collecting torchnet\n",
            "  Downloading torchnet-0.0.4.tar.gz (23 kB)\n",
            "  Preparing metadata (setup.py) ... \u001b[?25l\u001b[?25hdone\n",
            "Requirement already satisfied: torch in /usr/local/lib/python3.9/dist-packages (from torchnet) (1.13.1+cu116)\n",
            "Requirement already satisfied: six in /usr/local/lib/python3.9/dist-packages (from torchnet) (1.16.0)\n",
            "Collecting visdom\n",
            "  Downloading visdom-0.2.4.tar.gz (1.4 MB)\n",
            "\u001b[2K     \u001b[90m━━━━━━━━━━━━━━━━━━━━━━━━━━━━━━━━━━━━━━━━\u001b[0m \u001b[32m1.4/1.4 MB\u001b[0m \u001b[31m72.5 MB/s\u001b[0m eta \u001b[36m0:00:00\u001b[0m\n",
            "\u001b[?25h  Preparing metadata (setup.py) ... \u001b[?25l\u001b[?25hdone\n",
            "Requirement already satisfied: typing-extensions in /usr/local/lib/python3.9/dist-packages (from torch->torchnet) (4.5.0)\n",
            "Requirement already satisfied: numpy>=1.8 in /usr/local/lib/python3.9/dist-packages (from visdom->torchnet) (1.22.4)\n",
            "Requirement already satisfied: scipy in /usr/local/lib/python3.9/dist-packages (from visdom->torchnet) (1.10.1)\n",
            "Requirement already satisfied: requests in /usr/local/lib/python3.9/dist-packages (from visdom->torchnet) (2.27.1)\n",
            "Requirement already satisfied: tornado in /usr/local/lib/python3.9/dist-packages (from visdom->torchnet) (6.2)\n",
            "Collecting jsonpatch\n",
            "  Downloading jsonpatch-1.32-py2.py3-none-any.whl (12 kB)\n",
            "Collecting websocket-client\n",
            "  Downloading websocket_client-1.5.1-py3-none-any.whl (55 kB)\n",
            "\u001b[2K     \u001b[90m━━━━━━━━━━━━━━━━━━━━━━━━━━━━━━━━━━━━━━━━\u001b[0m \u001b[32m55.9/55.9 KB\u001b[0m \u001b[31m7.4 MB/s\u001b[0m eta \u001b[36m0:00:00\u001b[0m\n",
            "\u001b[?25hRequirement already satisfied: networkx in /usr/local/lib/python3.9/dist-packages (from visdom->torchnet) (3.0)\n",
            "Requirement already satisfied: pillow in /usr/local/lib/python3.9/dist-packages (from visdom->torchnet) (8.4.0)\n",
            "Collecting jsonpointer>=1.9\n",
            "  Downloading jsonpointer-2.3-py2.py3-none-any.whl (7.8 kB)\n",
            "Requirement already satisfied: charset-normalizer~=2.0.0 in /usr/local/lib/python3.9/dist-packages (from requests->visdom->torchnet) (2.0.12)\n",
            "Requirement already satisfied: certifi>=2017.4.17 in /usr/local/lib/python3.9/dist-packages (from requests->visdom->torchnet) (2022.12.7)\n",
            "Requirement already satisfied: idna<4,>=2.5 in /usr/local/lib/python3.9/dist-packages (from requests->visdom->torchnet) (3.4)\n",
            "Requirement already satisfied: urllib3<1.27,>=1.21.1 in /usr/local/lib/python3.9/dist-packages (from requests->visdom->torchnet) (1.26.15)\n",
            "Building wheels for collected packages: torchnet, visdom\n",
            "  Building wheel for torchnet (setup.py) ... \u001b[?25l\u001b[?25hdone\n",
            "  Created wheel for torchnet: filename=torchnet-0.0.4-py3-none-any.whl size=29745 sha256=0f4545bd292d7787fe80fecedd44b435771ff43af8df137e27629987816b93de\n",
            "  Stored in directory: /root/.cache/pip/wheels/65/d2/1e/0c2519d1837089fe374a60ce10e120c555b9d77110a49f027f\n",
            "  Building wheel for visdom (setup.py) ... \u001b[?25l\u001b[?25hdone\n",
            "  Created wheel for visdom: filename=visdom-0.2.4-py3-none-any.whl size=1408216 sha256=60783bf7585cb4592032dbdf0c990c5e1de6aca13f2ab8623fbe58e7cd751127\n",
            "  Stored in directory: /root/.cache/pip/wheels/58/9e/14/30f7cc4dafdd4d602fb00ca33c6edd1424fc0f5df10a02e060\n",
            "Successfully built torchnet visdom\n",
            "Installing collected packages: websocket-client, jsonpointer, jsonpatch, visdom, torchnet\n",
            "Successfully installed jsonpatch-1.32 jsonpointer-2.3 torchnet-0.0.4 visdom-0.2.4 websocket-client-1.5.1\n"
          ]
        }
      ]
    },
    {
      "cell_type": "code",
      "source": [
        "import torch\n",
        "import torch.nn as nn\n",
        "import torch.optim as optim\n",
        "from torch.optim import lr_scheduler\n",
        "import numpy as np\n",
        "import torchvision\n",
        "from torchvision import datasets, models, transforms\n",
        "import matplotlib.pyplot as plt\n",
        "import time\n",
        "import os\n",
        "import copy\n",
        "import seaborn as sn\n",
        "import pandas as pd\n",
        "import torchnet.meter.confusionmeter as cm"
      ],
      "metadata": {
        "id": "A4A7fPgJeNhU"
      },
      "execution_count": null,
      "outputs": []
    },
    {
      "cell_type": "code",
      "source": [
        "# Data augmentation and normalization for training\n",
        "# Just normalization for validation & test\n",
        "data_transforms = {\n",
        "    'Training': transforms.Compose([\n",
        "        transforms.RandomResizedCrop(224),\n",
        "        transforms.RandomHorizontalFlip(),\n",
        "        transforms.ToTensor(),\n",
        "        transforms.Normalize([0.485, 0.456, 0.406], [0.229, 0.224, 0.225])\n",
        "    ]),\n",
        "    'Validating': transforms.Compose([\n",
        "        transforms.Resize(224),\n",
        "        transforms.CenterCrop(224),\n",
        "        transforms.ToTensor(),\n",
        "        transforms.Normalize([0.485, 0.456, 0.406], [0.229, 0.224, 0.225])\n",
        "    ]),\n",
        "    'Testing': transforms.Compose([\n",
        "        transforms.Resize(224),\n",
        "        transforms.CenterCrop(224),\n",
        "        transforms.ToTensor(),\n",
        "        transforms.Normalize([0.485, 0.456, 0.406], [0.229, 0.224, 0.225])\n",
        "    ]),\n",
        "    'validation': transforms.Compose([\n",
        "        transforms.Resize(224),\n",
        "        transforms.CenterCrop(224) ,\n",
        "        transforms.ToTensor(),\n",
        "        transforms.Normalize([0.485], [0.229])\n",
        "    ])\n",
        "}\n"
      ],
      "metadata": {
        "id": "u-9RkrayePWM"
      },
      "execution_count": null,
      "outputs": []
    },
    {
      "cell_type": "code",
      "source": [
        "data_dir = '/content/gdrive/MyDrive/Brain_Tumor_Detection_3.0/Contrast_dataset_final'\n",
        "image_datasets = {x: datasets.ImageFolder(os.path.join(data_dir, x), data_transforms[x])\n",
        "                  for x in ['Testing','Training', 'Validating']}\n",
        "dataloaders = {x: torch.utils.data.DataLoader(image_datasets[x], batch_size=16,\n",
        "                                             shuffle=True, num_workers=2)\n",
        "              for x in ['Testing','Training', 'Validating']}\n",
        "dataset_sizes = {x: len(image_datasets[x]) for x in ['Testing','Training', 'Validating']}\n",
        "class_names = image_datasets['Training'].classes\n",
        "\n",
        "device = torch.device(\"cuda:0\" if torch.cuda.is_available() else \"cpu\")\n",
        "print(device)\n",
        "print(class_names)"
      ],
      "metadata": {
        "colab": {
          "base_uri": "https://localhost:8080/"
        },
        "id": "g1qRR54reTRR",
        "outputId": "a12af457-f2c2-49cc-eb71-9fe8baa1f329"
      },
      "execution_count": null,
      "outputs": [
        {
          "output_type": "stream",
          "name": "stdout",
          "text": [
            "cuda:0\n",
            "['glioma', 'meningioma', 'notumor', 'pituitory']\n"
          ]
        }
      ]
    },
    {
      "cell_type": "code",
      "source": [
        "#lists for graph generation\n",
        "epoch_counter_train = []\n",
        "epoch_counter_val = []\n",
        "train_loss = []\n",
        "val_loss = []\n",
        "train_acc = []\n",
        "val_acc = []\n",
        "\n",
        "#Train the model\n",
        "def train_model(model, criterion, optimizer, scheduler, num_epochs):\n",
        "    since = time.time()\n",
        "    print(since)\n",
        "    best_model_wts = copy.deepcopy(model.state_dict())\n",
        "    best_acc = 0.0\n",
        "    epoch_no = 0\n",
        "\n",
        "    for epoch in range(num_epochs):\n",
        "        print('Epoch {}/{}'.format(epoch + 1, num_epochs))\n",
        "        print('-' * 10)\n",
        "\n",
        "        # Each epoch has a training and validation phase\n",
        "        for phase in ['Training', 'Testing']:\n",
        "            if phase == 'Training':\n",
        "                # scheduler.step()\n",
        "                model.train()  # Set model to training mode\n",
        "            else:\n",
        "                model.eval()   # Set model to evaluate mode\n",
        "\n",
        "            running_loss = 0.0\n",
        "            running_corrects = 0\n",
        "\n",
        "            # Iterate over data.\n",
        "            for inputs, labels in dataloaders[phase]:\n",
        "                inputs = inputs.to(device)\n",
        "                labels = labels.to(device)\n",
        "\n",
        "                # zero the parameter gradients\n",
        "                optimizer.zero_grad()\n",
        "\n",
        "                # forward\n",
        "                # track history if only in train\n",
        "                with torch.set_grad_enabled(phase == 'Training'):  \n",
        "                    outputs = model(inputs)\n",
        "                    _, preds = torch.max(outputs, 1)\n",
        "                    probs = torch.exp(outputs) \n",
        "                    # print(probs)\n",
        "                    # print(_)\n",
        "                    # print(preds)\n",
        "                    loss = criterion(outputs, labels)\n",
        "\n",
        "                    # backward + optimize only if in training phase\n",
        "                    if phase == 'Training':\n",
        "                        loss.backward()\n",
        "                        optimizer.step()\n",
        "\n",
        "                # statistics \n",
        "                running_loss += loss.item() * inputs.size(0)\n",
        "                running_corrects += torch.sum(preds == labels.data)\n",
        "\n",
        "            #For graph generation\n",
        "            if phase == \"Training\":\n",
        "                train_loss.append(running_loss/dataset_sizes[phase])\n",
        "                train_acc.append(running_corrects.double() / dataset_sizes[phase])\n",
        "                epoch_counter_train.append(epoch)\n",
        "            if phase == \"Testing\":\n",
        "                val_loss.append(running_loss/ dataset_sizes[phase])\n",
        "                val_acc.append(running_corrects.double() / dataset_sizes[phase]) \n",
        "                epoch_counter_val.append(epoch)\n",
        "\n",
        "            epoch_loss = running_loss / dataset_sizes[phase]\n",
        "            epoch_acc = running_corrects.double() / dataset_sizes[phase]\n",
        "\n",
        "            #for printing        \n",
        "            if phase == \"Training\":    \n",
        "                epoch_loss = running_loss / dataset_sizes[phase]\n",
        "                epoch_acc = running_corrects.double() / dataset_sizes[phase]\n",
        "            if phase == \"Testing\":    \n",
        "                epoch_loss = running_loss / dataset_sizes[phase]\n",
        "                epoch_acc = running_corrects.double() / dataset_sizes[phase]\n",
        "            \n",
        "            \n",
        "            print('{} Loss: {:.4f} Acc: {:.4f}'.format(\n",
        "                phase, epoch_loss, epoch_acc))\n",
        "\n",
        "            # deep copy the best model\n",
        "            if phase == 'Testing' and epoch_acc > best_acc:\n",
        "                best_acc = epoch_acc\n",
        "                epoch_no = epoch\n",
        "                best_model_wts = copy.deepcopy(model.state_dict())\n",
        "\n",
        "        print()\n",
        "\n",
        "    time_elapsed = time.time() - since\n",
        "    print('Training complete in {:.0f}m {:.0f}s'.format(\n",
        "        time_elapsed // 60, time_elapsed % 60))\n",
        "    print('Best val Acc: {:4f} in epoch {}'.format(best_acc, epoch_no))\n",
        "\n",
        "    # load best model weights\n",
        "    model.load_state_dict(best_model_wts)\n",
        "    torch.save(model.state_dict(), '/content/gdrive/MyDrive/Brain_Tumor_Detection_3.0/Model/vgg19softmax1.pt')\n",
        "    return model"
      ],
      "metadata": {
        "id": "PGpvRl-BeVRj"
      },
      "execution_count": null,
      "outputs": []
    },
    {
      "cell_type": "code",
      "source": [
        "import torch\n",
        "import torch.nn as nn\n",
        "import torch.optim as optim\n",
        "from torchvision import models\n",
        "\n",
        "\n",
        "# Define the device to be used\n",
        "device = torch.device(\"cuda:0\" if torch.cuda.is_available() else \"cpu\")\n",
        "\n",
        "# Define the model architecture\n",
        "model_ft = models.vgg19_bn(pretrained=True)\n",
        "# Get the number of input features to the final layer\n",
        "num_ftrs = model_ft.classifier[-1].in_features\n",
        "\n",
        "# Replace the final layer with a new one\n",
        "model_ft.classifier[-1] = nn.Linear(num_ftrs, 4)\n",
        "\n",
        "# Add LogSoftmax activation to the output layer\n",
        "model_ft.classifier.add_module('output', nn.LogSoftmax(dim=1))\n",
        "\n",
        "# Move the model to the device\n",
        "model = model_ft.to(device)\n",
        "\n",
        "# Define the loss function\n",
        "criterion = nn.CrossEntropyLoss()\n",
        "\n",
        "# Define the optimizer with weight decay\n",
        "optimizer = optim.SGD(model.parameters(), lr=0.001, weight_decay=0.0001)\n",
        "\n",
        "# Define the learning rate scheduler\n",
        "exp_lr_scheduler = lr_scheduler.StepLR(optimizer, step_size=7, gamma=0.1)"
      ],
      "metadata": {
        "colab": {
          "base_uri": "https://localhost:8080/",
          "height": 159,
          "referenced_widgets": [
            "ea3340953e4d49bbbf1851ffbf6ee682",
            "2aa7a9baa16548cc83056e7fb784f973",
            "6c79618c15ac48e281a8ea1a2e2b8852",
            "0a1304292c9141399f3b57e6d482f601",
            "aa5c8d8d10af4abd8e2257f0fcf5921f",
            "a9ec71410fa6472ebef34f8c56cee8fd",
            "60cddab23ba347fb8b00e0778238458b",
            "8a5cb1ae76f94d4dab333794c901c4d4",
            "c292325976b4433ebad35b28b51fde39",
            "b27bfd8452c64f6bbe1164d29f92e5a8",
            "3bb41a24652f4cbabfcac065aa2644d0"
          ]
        },
        "id": "sjrLu_RefOQd",
        "outputId": "b61d8c1c-5418-4644-f9bc-6341d459c031"
      },
      "execution_count": null,
      "outputs": [
        {
          "output_type": "stream",
          "name": "stderr",
          "text": [
            "/usr/local/lib/python3.9/dist-packages/torchvision/models/_utils.py:208: UserWarning: The parameter 'pretrained' is deprecated since 0.13 and may be removed in the future, please use 'weights' instead.\n",
            "  warnings.warn(\n",
            "/usr/local/lib/python3.9/dist-packages/torchvision/models/_utils.py:223: UserWarning: Arguments other than a weight enum or `None` for 'weights' are deprecated since 0.13 and may be removed in the future. The current behavior is equivalent to passing `weights=VGG19_BN_Weights.IMAGENET1K_V1`. You can also use `weights=VGG19_BN_Weights.DEFAULT` to get the most up-to-date weights.\n",
            "  warnings.warn(msg)\n",
            "Downloading: \"https://download.pytorch.org/models/vgg19_bn-c79401a0.pth\" to /root/.cache/torch/hub/checkpoints/vgg19_bn-c79401a0.pth\n"
          ]
        },
        {
          "output_type": "display_data",
          "data": {
            "text/plain": [
              "  0%|          | 0.00/548M [00:00<?, ?B/s]"
            ],
            "application/vnd.jupyter.widget-view+json": {
              "version_major": 2,
              "version_minor": 0,
              "model_id": "ea3340953e4d49bbbf1851ffbf6ee682"
            }
          },
          "metadata": {}
        }
      ]
    },
    {
      "cell_type": "code",
      "source": [
        "import torch\n",
        "print(torch.version.cuda)"
      ],
      "metadata": {
        "colab": {
          "base_uri": "https://localhost:8080/"
        },
        "id": "7YSz1iOmfsey",
        "outputId": "7db4a5a3-e4b3-49ee-9a6f-a90acc7650fb"
      },
      "execution_count": null,
      "outputs": [
        {
          "output_type": "stream",
          "name": "stdout",
          "text": [
            "11.6\n"
          ]
        }
      ]
    },
    {
      "cell_type": "code",
      "source": [
        "# Train the model\n",
        "model = train_model(model, criterion, optimizer, exp_lr_scheduler, num_epochs=60)"
      ],
      "metadata": {
        "colab": {
          "base_uri": "https://localhost:8080/"
        },
        "id": "ns0lwtGMfuiH",
        "outputId": "ffbff78c-b967-4312-de5b-9119e96e5ee3"
      },
      "execution_count": null,
      "outputs": [
        {
          "output_type": "stream",
          "name": "stdout",
          "text": [
            "1680435016.125062\n",
            "Epoch 1/60\n",
            "----------\n",
            "Training Loss: 0.5216 Acc: 0.8083\n",
            "Testing Loss: 0.4115 Acc: 0.8520\n",
            "\n",
            "Epoch 2/60\n",
            "----------\n",
            "Training Loss: 0.4492 Acc: 0.8316\n",
            "Testing Loss: 0.3570 Acc: 0.8696\n",
            "\n",
            "Epoch 3/60\n",
            "----------\n",
            "Training Loss: 0.4080 Acc: 0.8498\n",
            "Testing Loss: 0.3112 Acc: 0.8879\n",
            "\n",
            "Epoch 4/60\n",
            "----------\n",
            "Training Loss: 0.3738 Acc: 0.8573\n",
            "Testing Loss: 0.2764 Acc: 0.8932\n",
            "\n",
            "Epoch 5/60\n",
            "----------\n",
            "Training Loss: 0.3450 Acc: 0.8718\n",
            "Testing Loss: 0.2472 Acc: 0.9077\n",
            "\n",
            "Epoch 6/60\n",
            "----------\n",
            "Training Loss: 0.3178 Acc: 0.8766\n",
            "Testing Loss: 0.2270 Acc: 0.9184\n",
            "\n",
            "Epoch 7/60\n",
            "----------\n",
            "Training Loss: 0.2972 Acc: 0.8880\n",
            "Testing Loss: 0.2051 Acc: 0.9237\n",
            "\n",
            "Epoch 8/60\n",
            "----------\n",
            "Training Loss: 0.2882 Acc: 0.8930\n",
            "Testing Loss: 0.2064 Acc: 0.9214\n",
            "\n",
            "Epoch 9/60\n",
            "----------\n",
            "Training Loss: 0.2706 Acc: 0.8967\n",
            "Testing Loss: 0.1825 Acc: 0.9268\n",
            "\n",
            "Epoch 10/60\n",
            "----------\n",
            "Training Loss: 0.2586 Acc: 0.9021\n",
            "Testing Loss: 0.1601 Acc: 0.9359\n",
            "\n",
            "Epoch 11/60\n",
            "----------\n",
            "Training Loss: 0.2674 Acc: 0.9018\n",
            "Testing Loss: 0.1483 Acc: 0.9405\n",
            "\n",
            "Epoch 12/60\n",
            "----------\n",
            "Training Loss: 0.2597 Acc: 0.9021\n",
            "Testing Loss: 0.1479 Acc: 0.9413\n",
            "\n",
            "Epoch 13/60\n",
            "----------\n",
            "Training Loss: 0.2412 Acc: 0.9072\n",
            "Testing Loss: 0.1350 Acc: 0.9489\n",
            "\n",
            "Epoch 14/60\n",
            "----------\n",
            "Training Loss: 0.2336 Acc: 0.9116\n",
            "Testing Loss: 0.1302 Acc: 0.9481\n",
            "\n",
            "Epoch 15/60\n",
            "----------\n",
            "Training Loss: 0.2265 Acc: 0.9142\n",
            "Testing Loss: 0.1261 Acc: 0.9519\n",
            "\n",
            "Epoch 16/60\n",
            "----------\n",
            "Training Loss: 0.2175 Acc: 0.9195\n",
            "Testing Loss: 0.1162 Acc: 0.9565\n",
            "\n",
            "Epoch 17/60\n",
            "----------\n",
            "Training Loss: 0.2083 Acc: 0.9186\n",
            "Testing Loss: 0.1126 Acc: 0.9565\n",
            "\n",
            "Epoch 18/60\n",
            "----------\n",
            "Training Loss: 0.2015 Acc: 0.9238\n",
            "Testing Loss: 0.1104 Acc: 0.9588\n",
            "\n",
            "Epoch 19/60\n",
            "----------\n",
            "Training Loss: 0.1939 Acc: 0.9251\n",
            "Testing Loss: 0.0976 Acc: 0.9619\n",
            "\n",
            "Epoch 20/60\n",
            "----------\n",
            "Training Loss: 0.1957 Acc: 0.9303\n",
            "Testing Loss: 0.0984 Acc: 0.9619\n",
            "\n",
            "Epoch 21/60\n",
            "----------\n",
            "Training Loss: 0.1770 Acc: 0.9356\n",
            "Testing Loss: 0.0972 Acc: 0.9596\n",
            "\n",
            "Epoch 22/60\n",
            "----------\n",
            "Training Loss: 0.1942 Acc: 0.9268\n",
            "Testing Loss: 0.0937 Acc: 0.9649\n",
            "\n",
            "Epoch 23/60\n",
            "----------\n",
            "Training Loss: 0.1867 Acc: 0.9312\n",
            "Testing Loss: 0.0874 Acc: 0.9664\n",
            "\n",
            "Epoch 24/60\n",
            "----------\n",
            "Training Loss: 0.1666 Acc: 0.9382\n",
            "Testing Loss: 0.0833 Acc: 0.9649\n",
            "\n",
            "Epoch 25/60\n",
            "----------\n",
            "Training Loss: 0.1696 Acc: 0.9403\n",
            "Testing Loss: 0.0832 Acc: 0.9680\n",
            "\n",
            "Epoch 26/60\n",
            "----------\n",
            "Training Loss: 0.1698 Acc: 0.9350\n",
            "Testing Loss: 0.0842 Acc: 0.9703\n",
            "\n",
            "Epoch 27/60\n",
            "----------\n",
            "Training Loss: 0.1613 Acc: 0.9389\n",
            "Testing Loss: 0.0806 Acc: 0.9695\n",
            "\n",
            "Epoch 28/60\n",
            "----------\n",
            "Training Loss: 0.1553 Acc: 0.9400\n",
            "Testing Loss: 0.0775 Acc: 0.9725\n",
            "\n",
            "Epoch 29/60\n",
            "----------\n",
            "Training Loss: 0.1580 Acc: 0.9433\n",
            "Testing Loss: 0.0793 Acc: 0.9695\n",
            "\n",
            "Epoch 30/60\n",
            "----------\n",
            "Training Loss: 0.1609 Acc: 0.9405\n",
            "Testing Loss: 0.0727 Acc: 0.9710\n",
            "\n",
            "Epoch 31/60\n",
            "----------\n",
            "Training Loss: 0.1493 Acc: 0.9450\n",
            "Testing Loss: 0.0681 Acc: 0.9771\n",
            "\n",
            "Epoch 32/60\n",
            "----------\n",
            "Training Loss: 0.1453 Acc: 0.9464\n",
            "Testing Loss: 0.0642 Acc: 0.9794\n",
            "\n",
            "Epoch 33/60\n",
            "----------\n",
            "Training Loss: 0.1657 Acc: 0.9424\n",
            "Testing Loss: 0.0645 Acc: 0.9786\n",
            "\n",
            "Epoch 34/60\n",
            "----------\n",
            "Training Loss: 0.1497 Acc: 0.9454\n",
            "Testing Loss: 0.0620 Acc: 0.9779\n",
            "\n",
            "Epoch 35/60\n",
            "----------\n",
            "Training Loss: 0.1467 Acc: 0.9466\n",
            "Testing Loss: 0.0599 Acc: 0.9794\n",
            "\n",
            "Epoch 36/60\n",
            "----------\n",
            "Training Loss: 0.1427 Acc: 0.9487\n",
            "Testing Loss: 0.0567 Acc: 0.9817\n",
            "\n",
            "Epoch 37/60\n",
            "----------\n",
            "Training Loss: 0.1406 Acc: 0.9461\n",
            "Testing Loss: 0.0565 Acc: 0.9802\n",
            "\n",
            "Epoch 38/60\n",
            "----------\n",
            "Training Loss: 0.1401 Acc: 0.9471\n",
            "Testing Loss: 0.0541 Acc: 0.9825\n",
            "\n",
            "Epoch 39/60\n",
            "----------\n",
            "Training Loss: 0.1352 Acc: 0.9496\n",
            "Testing Loss: 0.0599 Acc: 0.9809\n",
            "\n",
            "Epoch 40/60\n",
            "----------\n",
            "Training Loss: 0.1305 Acc: 0.9538\n",
            "Testing Loss: 0.0506 Acc: 0.9825\n",
            "\n",
            "Epoch 41/60\n",
            "----------\n",
            "Training Loss: 0.1291 Acc: 0.9508\n",
            "Testing Loss: 0.0516 Acc: 0.9825\n",
            "\n",
            "Epoch 42/60\n",
            "----------\n",
            "Training Loss: 0.1186 Acc: 0.9559\n",
            "Testing Loss: 0.0490 Acc: 0.9825\n",
            "\n",
            "Epoch 43/60\n",
            "----------\n",
            "Training Loss: 0.1217 Acc: 0.9554\n",
            "Testing Loss: 0.0473 Acc: 0.9809\n",
            "\n",
            "Epoch 44/60\n",
            "----------\n",
            "Training Loss: 0.1266 Acc: 0.9534\n",
            "Testing Loss: 0.0524 Acc: 0.9832\n",
            "\n",
            "Epoch 45/60\n",
            "----------\n",
            "Training Loss: 0.1169 Acc: 0.9559\n",
            "Testing Loss: 0.0462 Acc: 0.9847\n",
            "\n",
            "Epoch 46/60\n",
            "----------\n",
            "Training Loss: 0.1225 Acc: 0.9527\n",
            "Testing Loss: 0.0483 Acc: 0.9832\n",
            "\n",
            "Epoch 47/60\n",
            "----------\n",
            "Training Loss: 0.1318 Acc: 0.9501\n",
            "Testing Loss: 0.0413 Acc: 0.9878\n",
            "\n",
            "Epoch 48/60\n",
            "----------\n",
            "Training Loss: 0.1157 Acc: 0.9580\n",
            "Testing Loss: 0.0427 Acc: 0.9832\n",
            "\n",
            "Epoch 49/60\n",
            "----------\n",
            "Training Loss: 0.1168 Acc: 0.9566\n",
            "Testing Loss: 0.0463 Acc: 0.9855\n",
            "\n",
            "Epoch 50/60\n",
            "----------\n",
            "Training Loss: 0.1144 Acc: 0.9582\n",
            "Testing Loss: 0.0347 Acc: 0.9893\n",
            "\n",
            "Epoch 51/60\n",
            "----------\n",
            "Training Loss: 0.1203 Acc: 0.9566\n",
            "Testing Loss: 0.0371 Acc: 0.9893\n",
            "\n",
            "Epoch 52/60\n",
            "----------\n",
            "Training Loss: 0.1073 Acc: 0.9620\n",
            "Testing Loss: 0.0381 Acc: 0.9878\n",
            "\n",
            "Epoch 53/60\n",
            "----------\n",
            "Training Loss: 0.1145 Acc: 0.9587\n",
            "Testing Loss: 0.0417 Acc: 0.9855\n",
            "\n",
            "Epoch 54/60\n",
            "----------\n",
            "Training Loss: 0.1033 Acc: 0.9620\n",
            "Testing Loss: 0.0413 Acc: 0.9870\n",
            "\n",
            "Epoch 55/60\n",
            "----------\n",
            "Training Loss: 0.1115 Acc: 0.9603\n",
            "Testing Loss: 0.0379 Acc: 0.9863\n",
            "\n",
            "Epoch 56/60\n",
            "----------\n",
            "Training Loss: 0.1099 Acc: 0.9594\n",
            "Testing Loss: 0.0322 Acc: 0.9893\n",
            "\n",
            "Epoch 57/60\n",
            "----------\n",
            "Training Loss: 0.1051 Acc: 0.9583\n",
            "Testing Loss: 0.0327 Acc: 0.9878\n",
            "\n",
            "Epoch 58/60\n",
            "----------\n",
            "Training Loss: 0.1040 Acc: 0.9618\n",
            "Testing Loss: 0.0353 Acc: 0.9878\n",
            "\n",
            "Epoch 59/60\n",
            "----------\n",
            "Training Loss: 0.1054 Acc: 0.9617\n",
            "Testing Loss: 0.0390 Acc: 0.9878\n",
            "\n",
            "Epoch 60/60\n",
            "----------\n",
            "Training Loss: 0.1020 Acc: 0.9606\n",
            "Testing Loss: 0.0415 Acc: 0.9870\n",
            "\n",
            "Training complete in 122m 7s\n",
            "Best val Acc: 0.989321 in epoch 49\n"
          ]
        }
      ]
    },
    {
      "cell_type": "code",
      "source": [
        "#Plot the train & validation losses\n",
        "plt.figure(1)\n",
        "plt.title(\"Training Vs Validation Losses\")\n",
        "plt.xlabel('Epoch')\n",
        "plt.ylabel('Loss')\n",
        "plt.plot(epoch_counter_train,train_loss,color = 'r', label=\"Training Loss\")\n",
        "plt.plot(epoch_counter_val,val_loss,color = 'g', label=\"Validation Loss\")\n",
        "plt.legend()\n",
        "plt.show()"
      ],
      "metadata": {
        "colab": {
          "base_uri": "https://localhost:8080/",
          "height": 472
        },
        "id": "eVBFON_T5ly-",
        "outputId": "ff96f274-0089-4d43-950d-ff4802616844"
      },
      "execution_count": null,
      "outputs": [
        {
          "output_type": "display_data",
          "data": {
            "text/plain": [
              "<Figure size 640x480 with 1 Axes>"
            ],
            "image/png": "[encoded data removed]"
          },
          "metadata": {}
        }
      ]
    },
    {
      "cell_type": "code",
      "source": [
        "import torch\n",
        "import matplotlib.pyplot as plt\n",
        "\n",
        "# Convert the lists to PyTorch tensors\n",
        "train_acc_tensor = torch.tensor(train_acc)\n",
        "val_acc_tensor = torch.tensor(val_acc)\n",
        "\n",
        "# Plot the accuracies in train & validation\n",
        "plt.figure(2)\n",
        "plt.title(\"Training Vs Validation Accuracies\")\n",
        "plt.xlabel('Epoch')\n",
        "plt.ylabel('Accuracy')\n",
        "plt.plot(epoch_counter_train, train_acc_tensor.cpu().numpy(), color='r', label=\"Training Accuracy\")\n",
        "plt.plot(epoch_counter_val, val_acc_tensor.cpu().numpy(), color='g', label=\"Validation Accuracy\")\n",
        "plt.legend()\n",
        "plt.show()\n"
      ],
      "metadata": {
        "colab": {
          "base_uri": "https://localhost:8080/",
          "height": 472
        },
        "id": "jMPShOfu5mT0",
        "outputId": "fb7d0b59-2254-4d20-8d60-f034acf955db"
      },
      "execution_count": null,
      "outputs": [
        {
          "output_type": "display_data",
          "data": {
            "text/plain": [
              "<Figure size 640x480 with 1 Axes>"
            ],
            "image/png": "[encoded data removed]"
          },
          "metadata": {}
        }
      ]
    },
    {
      "cell_type": "code",
      "source": [
        "#Class wise testing accuracy\n",
        "class_correct = list(0. for i in range(4))\n",
        "class_total = list(0. for i in range(4))\n",
        "with torch.no_grad():\n",
        "    for i, (inputs, labels) in enumerate(dataloaders['Validating']):\n",
        "            inputs = inputs.to(device)\n",
        "            labels = labels.to(device)\n",
        "            outputs = model_ft(inputs)\n",
        "            _, predicted = torch.max(outputs, 1)\n",
        "            point = (predicted == labels).squeeze()\n",
        "            for j in range(len(labels)):\n",
        "                label = labels[j]\n",
        "                class_correct[label] += point[j].item()\n",
        "                class_total[label] += 1\n",
        "\n",
        "for i in range(4):\n",
        "    print('Accuracy of %5s : %2d %%' % (\n",
        "        class_names[i], 100 * class_correct[i] / class_total[i]))"
      ],
      "metadata": {
        "colab": {
          "base_uri": "https://localhost:8080/"
        },
        "id": "CF0B9Kdr5pvi",
        "outputId": "c379b9b1-dbcd-41e9-b55f-91975f892a25"
      },
      "execution_count": null,
      "outputs": [
        {
          "output_type": "stream",
          "name": "stdout",
          "text": [
            "Accuracy of glioma : 97 %\n",
            "Accuracy of meningioma : 97 %\n",
            "Accuracy of notumor : 100 %\n",
            "Accuracy of pituitory : 99 %\n"
          ]
        }
      ]
    },
    {
      "cell_type": "code",
      "source": [
        "#Get the confusion matrix for testing data\n",
        "confusion_matrix = cm.ConfusionMeter(4)\n",
        "with torch.no_grad():\n",
        "    for i, (inputs, labels) in enumerate(dataloaders['Validating']):\n",
        "        inputs = inputs.to(device)\n",
        "        labels = labels.to(device)\n",
        "        outputs = model_ft(inputs)\n",
        "        _, predicted = torch.max(outputs, 1)\n",
        "        confusion_matrix.add(predicted, labels)\n",
        "    print(confusion_matrix.conf)\n",
        "\n",
        "def get_confusion_matrix():\n",
        "  confusion_matrix = cm.ConfusionMeter(4)\n",
        "  with torch.no_grad():\n",
        "    for i, (inputs, labels) in enumerate(dataloaders['Validating']):\n",
        "      inputs = inputs.to(device)\n",
        "      labels = labels.to(device)\n",
        "      outputs = model_ft(inputs)\n",
        "      _, predicted"
      ],
      "metadata": {
        "colab": {
          "base_uri": "https://localhost:8080/"
        },
        "id": "NO2iGt_R5tCZ",
        "outputId": "c4a4a671-c6c1-4437-ba77-7d88ccad327d"
      },
      "execution_count": null,
      "outputs": [
        {
          "output_type": "stream",
          "name": "stdout",
          "text": [
            "[[223   5   0   0]\n",
            " [  2 299   1   4]\n",
            " [  0   0 405   0]\n",
            " [  0   1   0 299]]\n"
          ]
        }
      ]
    },
    {
      "cell_type": "code",
      "source": [
        "#Confusion matrix as a heatmap\n",
        "con_m = confusion_matrix.conf\n",
        "df_con_m = pd.DataFrame(con_m, index= [i for i in class_names], columns = [i for i in class_names])\n",
        "sn.set(font_scale= 1.1)\n",
        "sn.heatmap(df_con_m, annot=True,fmt='g' ,  annot_kws={\"size\" : 10}, cbar = False, cmap=\"Blues\")"
      ],
      "metadata": {
        "colab": {
          "base_uri": "https://localhost:8080/",
          "height": 455
        },
        "id": "QP4D17y15vot",
        "outputId": "da7b6e71-2dc2-4594-ea68-26ff8ff91c8f"
      },
      "execution_count": null,
      "outputs": [
        {
          "output_type": "execute_result",
          "data": {
            "text/plain": [
              "<Axes: >"
            ]
          },
          "metadata": {},
          "execution_count": 17
        },
        {
          "output_type": "display_data",
          "data": {
            "text/plain": [
              "<Figure size 640x480 with 1 Axes>"
            ],
            "image/png": "[encoded data removed]"
          },
          "metadata": {}
        }
      ]
    },
    {
      "cell_type": "code",
      "source": [
        "import numpy as np\n",
        "from sklearn.metrics import accuracy_score, precision_score, recall_score, f1_score\n",
        "\n",
        "# function to evaluate model performance\n",
        "def evaluate_model(model_ft, dataloader):\n",
        "    model_ft.eval()\n",
        "    y_true = []\n",
        "    y_pred = []\n",
        "    with torch.no_grad():\n",
        "        for inputs, labels in dataloader:\n",
        "            inputs = inputs.to(device)\n",
        "            labels = labels.to(device)\n",
        "            outputs = model_ft(inputs)\n",
        "            _, preds = torch.max(outputs, 1)\n",
        "            y_true.extend(labels.cpu().numpy())\n",
        "            y_pred.extend(preds.cpu().numpy())\n",
        "\n",
        "    accuracy = accuracy_score(y_true, y_pred)\n",
        "    precision = precision_score(y_true, y_pred, average='weighted')\n",
        "    recall = recall_score(y_true, y_pred, average='weighted')\n",
        "    f1 = f1_score(y_true, y_pred, average='weighted')\n",
        "\n",
        "    print('Accuracy: {:.4f} Precision: {:.4f} Recall: {:.4f} F1 score: {:.4f}'.format(accuracy, precision, recall, f1))\n",
        "evaluate_model(model_ft, dataloaders['Testing'])"
      ],
      "metadata": {
        "colab": {
          "base_uri": "https://localhost:8080/"
        },
        "id": "Vz4pBzfy5xot",
        "outputId": "21d1d79f-5e3d-42d2-b1de-5f7a14a31817"
      },
      "execution_count": null,
      "outputs": [
        {
          "output_type": "stream",
          "name": "stdout",
          "text": [
            "Accuracy: 0.9893 Precision: 0.9893 Recall: 0.9893 F1 score: 0.9893\n"
          ]
        }
      ]
    },
    {
      "cell_type": "code",
      "source": [
        "import torch\n",
        "import torch.nn as nn\n",
        "import torch.optim as optim\n",
        "from torch.optim import lr_scheduler\n",
        "from torchvision import models\n",
        "\n",
        "# Define the device to be used\n",
        "device = torch.device(\"cuda:0\" if torch.cuda.is_available() else \"cpu\")\n",
        "\n",
        "model_detect = models.vgg16(pretrained=True)\n",
        "num_ftrs = model_ft.classifier[-1].in_features\n",
        "model_detect.classifier.add_module\n",
        "\n",
        "\n",
        "# Define the model architecture\n",
        "model_ft = models.vgg19_bn(pretrained=True)\n",
        "num_ftrs = model_ft.classifier[-1].in_features\n",
        "model_ft.classifier[-1] = nn.Linear(num_ftrs, 4)\n",
        "model_ft.classifier.add_module('output', nn.LogSoftmax(dim=1))\n",
        "\n",
        "# Load the saved model state dict\n",
        "saved_model = torch.load('/content/gdrive/MyDrive/Brain_Tumor_2.0/model/BTD_2.0.1-vgg16softmax', map_location=torch.device('cpu'))\n",
        "\n",
        "# Load the saved model state dict into the model\n",
        "model_ft.load_state_dict(saved_model)\n",
        "\n",
        "# Move the model to the device\n",
        "model_ft = model_ft.to(device)\n",
        "\n",
        "# Define the loss function\n",
        "criterion = nn.CrossEntropyLoss()\n",
        "\n",
        "# Define the optimizer with weight decay\n",
        "optimizer = optim.SGD(model_ft.parameters(), lr=0.001, weight_decay=0.0001)\n",
        "\n",
        "# # Define the learning rate scheduler\n",
        "# exp_lr_scheduler = lr_scheduler.Step"
      ],
      "metadata": {
        "id": "bPmhzhn45zs1"
      },
      "execution_count": null,
      "outputs": []
    },
    {
      "cell_type": "code",
      "source": [
        "import PIL.Image as Image\n",
        "\n",
        "def check_image(filename, model_ft, device):\n",
        "    model_ft.eval()\n",
        "    image = Image.open(filename)\n",
        "    image_tensor = data_transforms['Testing'](image).unsqueeze(0)\n",
        "    image_tensor = image_tensor.to(device)\n",
        "    output = model_ft(image_tensor)\n",
        "    _, pred = torch.max(output, 1)\n",
        "    return class_names[pred]\n",
        "filename = '/content/gdrive/MyDrive/Brain_Tumor_2.0/Contour_dataset/Testing/meningioma_tumor/image(102).jpg'\n",
        "predicted_class = check_image(filename, model_ft, device)\n",
        "print(predicted_class)"
      ],
      "metadata": {
        "id": "_GrRJx3551ie"
      },
      "execution_count": null,
      "outputs": []
    }
  ]
}