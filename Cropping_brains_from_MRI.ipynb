{
  "nbformat": 4,
  "nbformat_minor": 0,
  "metadata": {
    "colab": {
      "provenance": [],
      "include_colab_link": true
    },
    "kernelspec": {
      "name": "python3",
      "display_name": "Python 3"
    },
    "language_info": {
      "name": "python"
    }
  },
  "cells": [
    {
      "cell_type": "markdown",
      "metadata": {
        "id": "view-in-github",
        "colab_type": "text"
      },
      "source": [
        "<a href=\"https://colab.research.google.com/github/Chandan-Kumar-Vanamala/k3/blob/main/Cropping_brains_from_MRI.ipynb\" target=\"_parent\"><img src=\"https://colab.research.google.com/assets/colab-badge.svg\" alt=\"Open In Colab\"/></a>"
      ]
    },
    {
      "cell_type": "code",
      "source": [
        "from google.colab import drive\n",
        "drive.mount('/content/gdrive')"
      ],
      "metadata": {
        "colab": {
          "base_uri": "https://localhost:8080/"
        },
        "id": "_-ObOEDdg4Oj",
        "outputId": "f35f1884-f912-4d9b-9fb7-189f9adc1ffa"
      },
      "execution_count": null,
      "outputs": [
        {
          "output_type": "stream",
          "name": "stdout",
          "text": [
            "Mounted at /content/gdrive\n"
          ]
        }
      ]
    },
    {
      "cell_type": "code",
      "source": [
        "import cv2\n",
        "import os\n",
        "\n",
        "# Specify the input and output directories\n",
        "input_dir = '/content/gdrive/MyDrive/Brain_Tumor_Detection_3.0/Brain_Tumor_Dataset_4classes/Training/pituitary'\n",
        "output_dir = '/content/gdrive/MyDrive/Brain_Tumor_Detection_3.0/Removing_extras_dataset/Training/pituitory'\n",
        "\n",
        "# Iterate through all the files in the input directory\n",
        "for filename in os.listdir(input_dir):\n",
        "    # Read the image file\n",
        "    img = cv2.imread(os.path.join(input_dir, filename))\n",
        "    \n",
        "    # Convert the image to grayscale\n",
        "    gray = cv2.cvtColor(img, cv2.COLOR_BGR2GRAY)\n",
        "    \n",
        "    # Apply thresholding to separate the brain from the background\n",
        "    _, thresh = cv2.threshold(gray, 50, 255, cv2.THRESH_BINARY)\n",
        "    \n",
        "    # Find the contours in the image\n",
        "    contours, _ = cv2.findContours(thresh, cv2.RETR_EXTERNAL, cv2.CHAIN_APPROX_SIMPLE)\n",
        "    \n",
        "    # Get the largest contour, which should be the brain\n",
        "    largest_contour = max(contours, key=cv2.contourArea)\n",
        "    \n",
        "    # Get the bounding rectangle of the brain\n",
        "    x, y, w, h = cv2.boundingRect(largest_contour)\n",
        "    \n",
        "    # Crop the image to include only the brain\n",
        "    brain_img = img[y:y+h, x:x+w]\n",
        "    \n",
        "    # Save the cropped image to the output directory\n",
        "    cv2.imwrite(os.path.join(output_dir, filename), brain_img)\n"
      ],
      "metadata": {
        "id": "Tbg8CVYNj_9n"
      },
      "execution_count": null,
      "outputs": []
    }
  ]
}