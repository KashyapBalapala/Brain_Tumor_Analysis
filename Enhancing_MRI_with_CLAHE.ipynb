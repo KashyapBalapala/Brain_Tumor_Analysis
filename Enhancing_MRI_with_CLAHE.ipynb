{
  "nbformat": 4,
  "nbformat_minor": 0,
  "metadata": {
    "colab": {
      "provenance": [],
      "include_colab_link": true
    },
    "kernelspec": {
      "name": "python3",
      "display_name": "Python 3"
    },
    "language_info": {
      "name": "python"
    }
  },
  "cells": [
    {
      "cell_type": "markdown",
      "metadata": {
        "id": "view-in-github",
        "colab_type": "text"
      },
      "source": [
        "<a href=\"https://colab.research.google.com/github/Chandan-Kumar-Vanamala/k4/blob/main/Enhancing_MRI_with_CLAHE.ipynb\" target=\"_parent\"><img src=\"https://colab.research.google.com/assets/colab-badge.svg\" alt=\"Open In Colab\"/></a>"
      ]
    },
    {
      "cell_type": "code",
      "execution_count": null,
      "metadata": {
        "colab": {
          "base_uri": "https://localhost:8080/"
        },
        "id": "YMX7eky1mrUO",
        "outputId": "1fd616aa-e5ba-4b3b-954c-261f373ec7de"
      },
      "outputs": [
        {
          "output_type": "stream",
          "name": "stdout",
          "text": [
            "Mounted at /content/gdrive\n"
          ]
        }
      ],
      "source": [
        "from google.colab import drive\n",
        "drive.mount('/content/gdrive')"
      ]
    },
    {
      "cell_type": "code",
      "source": [
        "import os\n",
        "import cv2\n",
        "\n",
        "# Define the input and output folders\n",
        "input_folder = \"/content/gdrive/MyDrive/Brain_Tumor_Detection_3.0/Denoising_dataset/Validating/pituitory\"\n",
        "output_folder = \"/content/gdrive/MyDrive/Brain_Tumor_Detection_3.0/Contrast_dataset_final/Validating/pituitory\"\n",
        "\n",
        "# Define the parameters for CLAHE\n",
        "clahe = cv2.createCLAHE(clipLimit=2.0)\n",
        "\n",
        "# Loop through all the images in the input folder\n",
        "for filename in os.listdir(input_folder):\n",
        "    # Load the image\n",
        "    img = cv2.imread(os.path.join(input_folder, filename), cv2.IMREAD_GRAYSCALE)\n",
        "    \n",
        "    # Apply CLAHE\n",
        "    img_clahe = clahe.apply(img)\n",
        "    \n",
        "    # Save the enhanced image to the output folder\n",
        "    cv2.imwrite(os.path.join(output_folder, filename), img_clahe)\n"
      ],
      "metadata": {
        "id": "yK6Uo_srmwnK"
      },
      "execution_count": null,
      "outputs": []
    },
    {
      "cell_type": "code",
      "source": [
        "import cv2\n",
        "\n",
        "# Read the image file\n",
        "img = cv2.imread(\"/content/gdrive/MyDrive/Brain_Tumor_2.0/Enhanced_dataset_Final/Training/no_tumor/1 no.jpeg\")\n",
        "\n",
        "# Get the shape of the image\n",
        "height, width, channels = img.shape\n",
        "\n",
        "# Print the image shape\n",
        "print(\"Image shape: ({}, {}, {})\".format(width, height, channels))\n"
      ],
      "metadata": {
        "id": "2UCCMXuiwiWn"
      },
      "execution_count": null,
      "outputs": []
    }
  ]
}