{
  "nbformat": 4,
  "nbformat_minor": 0,
  "metadata": {
    "colab": {
      "provenance": [],
      "include_colab_link": true
    },
    "kernelspec": {
      "name": "python3",
      "display_name": "Python 3"
    },
    "language_info": {
      "name": "python"
    }
  },
  "cells": [
    {
      "cell_type": "markdown",
      "metadata": {
        "id": "view-in-github",
        "colab_type": "text"
      },
      "source": [
        "<a href=\"https://colab.research.google.com/github/Chandan-Kumar-Vanamala/k2/blob/main/Denoising_Images_NLM_cv2.ipynb\" target=\"_parent\"><img src=\"https://colab.research.google.com/assets/colab-badge.svg\" alt=\"Open In Colab\"/></a>"
      ]
    },
    {
      "cell_type": "code",
      "source": [
        "from google.colab import drive\n",
        "drive.mount('/content/gdrive')"
      ],
      "metadata": {
        "colab": {
          "base_uri": "https://localhost:8080/"
        },
        "id": "B04yiDCnNlBQ",
        "outputId": "d21a0b6f-329b-41a2-953b-43741e688090"
      },
      "execution_count": null,
      "outputs": [
        {
          "output_type": "stream",
          "name": "stdout",
          "text": [
            "Drive already mounted at /content/gdrive; to attempt to forcibly remount, call drive.mount(\"/content/gdrive\", force_remount=True).\n"
          ]
        }
      ]
    },
    {
      "cell_type": "code",
      "source": [
        "import cv2\n",
        "import os\n",
        "\n",
        "input_folder = '/content/gdrive/MyDrive/Brain_Tumor_Detection_3.0/Removing_extras_dataset/Validating/notumor'\n",
        "output_folder = '/content/gdrive/MyDrive/Brain_Tumor_Detection_3.0/Denoising_dataset/Validating/notumor'\n",
        "\n",
        "# Set the parameters\n",
        "h = 20\n",
        "hForColorComponents = 0\n",
        "templateWindowSize = 3\n",
        "searchWindowSize = 3\n",
        "\n",
        "for filename in os.listdir(input_folder):\n",
        "    # Read the input image\n",
        "    img_path = os.path.join(input_folder, filename)\n",
        "    img = cv2.imread(img_path, cv2.IMREAD_GRAYSCALE)\n",
        "    \n",
        "    # Apply the Non-Local Means algorithm to denoise the image\n",
        "    denoised_img = cv2.fastNlMeansDenoising(img, None, h, templateWindowSize, searchWindowSize)\n",
        "    \n",
        "    # Save the denoised image in the output folder\n",
        "    output_path = os.path.join(output_folder, filename)\n",
        "    cv2.imwrite(output_path, denoised_img)"
      ],
      "metadata": {
        "id": "197dNVR4F-aF"
      },
      "execution_count": null,
      "outputs": []
    }
  ]
}